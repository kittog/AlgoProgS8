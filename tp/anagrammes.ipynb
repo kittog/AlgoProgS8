{
 "cells": [
  {
   "attachments": {},
   "cell_type": "markdown",
   "metadata": {},
   "source": [
    "### TP n°2 : recherche des anagrammes\n",
    "1. On part d'un fichier texte qui est chargé en mémoire sous la forme d'une liste de lignes.\n",
    "2. A partir de ce fichier, il est d'abord demandé de construire un *lexique* : la liste de tous les mots apparaissant dans le fichier. On peut utiliser la fonction `split()` ou essayer d'améliorer le découpage. \n",
    "3. Ecrire une fonction booléenne `anagramme(x,y)` qui détermine si les deux mots x et y sont des anagrammes l'un de l'autre. On peut utiliser la combinaison de fonctions `sorted(list(x))`.\n",
    "4. Au moyen d'un double parcours du lexique, afficher toutes les paires de mots qui sont des anagrammes.\n",
    "5. Construire un dictionnaire indiquant, pour chaque mot du lexique, la liste de ses anagrammes"
   ]
  },
  {
   "cell_type": "code",
   "execution_count": 43,
   "metadata": {},
   "outputs": [],
   "source": [
    "def charge_fichier():\n",
    "    lgns = []\n",
    "    with open(\"jules_verne.txt\", \"r\", encoding=\"utf8\") as f:\n",
    "        for ligne in f:\n",
    "            lgns.append(ligne.strip())\n",
    "    return lgns"
   ]
  },
  {
   "cell_type": "code",
   "execution_count": 44,
   "metadata": {},
   "outputs": [],
   "source": [
    "txt = charge_fichier()\n",
    "txt_new = \"\"\n",
    "for i in range(len(txt)):\n",
    "    if len(txt[i]) > 0:\n",
    "        txt_new += txt[i]   "
   ]
  },
  {
   "cell_type": "code",
   "execution_count": 45,
   "metadata": {},
   "outputs": [
    {
     "name": "stdout",
     "output_type": "stream",
     "text": [
      "['JULES', 'VERNECINQ', 'SEMAINES', 'EN', 'BALLONVOYAGE', 'DE', 'DÉCOUVERTES', 'EN', 'AFRIQUE', 'PAR', '3', 'ANGLAISCHAPITRE', 'PREMIERLa', 'fin', \"d'un\", 'discours', 'très', 'applaudi.--Présentation', 'du', 'docteur', 'Samuel', 'Fergusson--«', 'Excelsior.', '»--Portrait', 'en', 'pied', 'du', 'docteur.--Un', 'fataliste', 'convaincu.--Dîner', 'au', \"Traveller's\", 'club.--Nombreux', 'toasts', 'de', 'circonstanceIl', 'y', 'avait', 'une', 'grande', 'affluence', \"d'auditeurs,\", 'le', '14', 'janvier', '1862,', 'à', 'la', 'séance', 'de', 'la', 'Société', 'royale', 'géographique', 'de', 'Londres,', 'Waterloo', 'place,', '3.', 'Le', 'président,', 'sir', 'Francis', 'M...', ',', 'faisait', 'à', 'ses', 'honorables', 'collègues', 'une', 'importante', 'communication', 'dans', 'un', 'discours', 'fréquemment', 'interrompu', 'par', 'les', 'applaudissements.Ce', 'rare', 'morceau', \"d'éloquence\", 'se', 'terminait', 'enfin', 'par', 'quelques', 'phrases', 'ronflantes', 'dans', 'lesquelles', 'le', 'patriotisme', 'se', 'déversait', 'à', 'pleines', 'périodes;«', \"L'Angleterre\", 'a', 'toujours', 'à', 'la', 'tête', 'des', 'nations', '(car,', 'on', \"l'a\", 'remarqué,', 'les', 'nations', 'marchent', 'universellement', 'à', 'la', 'tête', 'les', 'unes', 'des', 'autres),', '«', 'par', \"l'intrépidité\", 'de', 'ses', 'voyageurs', 'dans', 'la', 'voie', 'des', 'découvertes', 'géographiques.', '-(Assentiments', 'nombreux.)', 'Le', 'docteur', 'Samuel', 'Fergusson,', \"l'un\", 'de', 'ses', 'glorieux', 'enfants,', 'ne', 'faillira', 'pas', 'à', 'son', 'origine.', '(De', 'toutes', 'parts:', 'Non', '!', 'non', '!)', 'Cette', 'tentative,', 'si', 'elle', 'réussit', '(elle', 'réussira', '!)', 'reliera,', 'en', 'les', 'complétant,', 'les', 'notions', 'éparses', 'de', 'la', 'cartologie', 'africaine', '(véhémente', 'approbation),', 'et', 'si', 'elle', 'échoue', '(jamais', '!', 'jamais', '!),', 'elle', 'restera', 'du', 'moins', 'comme', \"l'un\", 'des', 'plus', 'audacieuses', 'conceptions', 'du', 'génie', 'humain', '!', '(Trépignements', 'frénétiques.)', '»--Hourra', '!', 'hourra', '!', 'fit', \"l'assemblée\", 'électrisée', 'par', 'ces', 'émouvantes', 'paroles.--']\n"
     ]
    }
   ],
   "source": [
    "txt_new = txt_new[:1500]\n",
    "lexique = txt_new.split()\n",
    "print(lexique)"
   ]
  },
  {
   "cell_type": "code",
   "execution_count": 46,
   "metadata": {},
   "outputs": [],
   "source": [
    "def anagrammes(x, y):\n",
    "    c = 0\n",
    "    l1 = [*x.lower()]\n",
    "    l2 = [*y.lower()]\n",
    "    for e in l1:\n",
    "        if e in l2:\n",
    "            c += 1\n",
    "    if c == len(x) and len(x) == len(y):\n",
    "        return True\n",
    "    else:\n",
    "        return False"
   ]
  },
  {
   "cell_type": "code",
   "execution_count": 47,
   "metadata": {},
   "outputs": [],
   "source": [
    "def anagrammes(x, y):\n",
    "    l1 = sorted([*x.lower()])\n",
    "    l2 = sorted([*y.lower()])\n",
    "    if l1 == l2:\n",
    "        return True\n",
    "    else:\n",
    "        return False"
   ]
  },
  {
   "cell_type": "code",
   "execution_count": 3,
   "metadata": {},
   "outputs": [
    {
     "name": "stdout",
     "output_type": "stream",
     "text": [
      "['n', 'a', 't', 'a', 'c', 'h', 'a']\n",
      "['a', 'a', 'a', 'c', 'h', 'n', 't']\n"
     ]
    }
   ],
   "source": [
    "x = \"natacha\"\n",
    "print([*x])\n",
    "print(sorted(list(x)))"
   ]
  },
  {
   "cell_type": "code",
   "execution_count": 48,
   "metadata": {},
   "outputs": [
    {
     "name": "stdout",
     "output_type": "stream",
     "text": [
      "okay\n"
     ]
    }
   ],
   "source": [
    "w1 = \"Mary\"\n",
    "w2 = \"Army\"\n",
    "if anagrammes(w1, w2):\n",
    "    print(\"okay\")"
   ]
  },
  {
   "cell_type": "code",
   "execution_count": 49,
   "metadata": {},
   "outputs": [],
   "source": [
    "# paires d'anagrammes\n",
    "def paire_anagrammes(txt):\n",
    "    an  = []\n",
    "    for w1 in txt.split():\n",
    "        for w2 in txt.split():\n",
    "            if w1.lower() != w2.lower() and anagrammes(w1, w2):\n",
    "                an.append([w1, w2])\n",
    "    return an"
   ]
  },
  {
   "cell_type": "code",
   "execution_count": 54,
   "metadata": {},
   "outputs": [],
   "source": [
    "# dictionnaire d'anagrammes\n",
    "def dico_anagrammes(txt):\n",
    "    dico = {}\n",
    "    for w1 in txt.split():\n",
    "        w_an = []\n",
    "        for w2 in txt.split():\n",
    "            if w1.lower() != w2.lower() and anagrammes(w1, w2):\n",
    "                w_an.append(w2)\n",
    "        if len(w_an) > 0: dico[w1] = list(set(w_an))\n",
    "    return dico\n"
   ]
  },
  {
   "cell_type": "code",
   "execution_count": 55,
   "metadata": {},
   "outputs": [
    {
     "data": {
      "text/plain": [
       "{'EN': ['ne'], 'en': ['ne'], 'ne': ['EN', 'en']}"
      ]
     },
     "execution_count": 55,
     "metadata": {},
     "output_type": "execute_result"
    }
   ],
   "source": [
    "dico_anagrammes(txt_new)"
   ]
  }
 ],
 "metadata": {
  "kernelspec": {
   "display_name": "Python 3",
   "language": "python",
   "name": "python3"
  },
  "language_info": {
   "codemirror_mode": {
    "name": "ipython",
    "version": 3
   },
   "file_extension": ".py",
   "mimetype": "text/x-python",
   "name": "python",
   "nbconvert_exporter": "python",
   "pygments_lexer": "ipython3",
   "version": "3.10.6"
  },
  "vscode": {
   "interpreter": {
    "hash": "916dbcbb3f70747c44a77c7bcd40155683ae19c65e1c03b4aa3499c5328201f1"
   }
  }
 },
 "nbformat": 4,
 "nbformat_minor": 2
}
